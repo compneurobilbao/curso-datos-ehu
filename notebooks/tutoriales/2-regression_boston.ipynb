{
 "cells": [
  {
   "cell_type": "markdown",
   "metadata": {},
   "source": [
    "# En este notebook vamos a aplicar algunas herrammientas aprendidas para hacer regresión. Para ello, usaremos la dataset boston, que se encuentra entre los datasets incluidos en scikit"
   ]
  },
  {
   "cell_type": "code",
   "execution_count": null,
   "metadata": {},
   "outputs": [],
   "source": [
    "import numpy as np\n",
    "import pandas as pd\n",
    "import matplotlib.pyplot as plt\n",
    "import sklearn"
   ]
  },
  {
   "cell_type": "code",
   "execution_count": null,
   "metadata": {},
   "outputs": [],
   "source": [
    "from sklearn.datasets import load_boston\n",
    "boston = load_boston()"
   ]
  },
  {
   "cell_type": "code",
   "execution_count": null,
   "metadata": {},
   "outputs": [],
   "source": [
    "print(boston.keys())"
   ]
  },
  {
   "cell_type": "code",
   "execution_count": null,
   "metadata": {},
   "outputs": [],
   "source": [
    "print(boston.data.shape)"
   ]
  },
  {
   "cell_type": "code",
   "execution_count": null,
   "metadata": {},
   "outputs": [],
   "source": [
    "print(boston.feature_names)"
   ]
  },
  {
   "cell_type": "code",
   "execution_count": null,
   "metadata": {},
   "outputs": [],
   "source": [
    "print(boston.DESCR)"
   ]
  },
  {
   "cell_type": "code",
   "execution_count": null,
   "metadata": {},
   "outputs": [],
   "source": [
    "bos = pd.DataFrame(boston.data)\n",
    "print(bos.head())"
   ]
  },
  {
   "cell_type": "code",
   "execution_count": null,
   "metadata": {},
   "outputs": [],
   "source": [
    "bos.columns = boston.feature_names\n",
    "print(bos.head())"
   ]
  },
  {
   "cell_type": "code",
   "execution_count": null,
   "metadata": {},
   "outputs": [],
   "source": [
    "print(boston.target.shape)"
   ]
  },
  {
   "cell_type": "code",
   "execution_count": null,
   "metadata": {},
   "outputs": [],
   "source": [
    "#añadimos el target\n",
    "bos['PRICE'] = boston.target\n",
    "print(bos.head())"
   ]
  },
  {
   "cell_type": "code",
   "execution_count": null,
   "metadata": {},
   "outputs": [],
   "source": [
    "print(bos.describe())"
   ]
  },
  {
   "cell_type": "code",
   "execution_count": null,
   "metadata": {},
   "outputs": [],
   "source": [
    "X = bos.drop('PRICE', axis = 1)\n",
    "Y = bos['PRICE']"
   ]
  },
  {
   "cell_type": "code",
   "execution_count": null,
   "metadata": {},
   "outputs": [],
   "source": [
    "#Veamos el ajuste más sencillo \n",
    "from sklearn.linear_model import LinearRegression\n",
    "\n",
    "#Definimos el objeto del clasificador\n",
    "lm = LinearRegression()\n",
    "# Hacemos fit\n",
    "lm.fit(X, Y)\n",
    "# Hacemos predict\n",
    "Y_pred = lm.predict(X)"
   ]
  },
  {
   "cell_type": "code",
   "execution_count": null,
   "metadata": {},
   "outputs": [],
   "source": [
    "plt.scatter(Y, Y_pred, s=5)\n",
    "plt.xlabel(\"Precio reales: $Y_i$\")\n",
    "plt.ylabel(\"Precios predichos: $\\hat{Y}_i$\")\n",
    "plt.title(\"Precios reales vs Precios predichos: $Y_i$ vs $\\hat{Y}_i$\")\n",
    "pass"
   ]
  },
  {
   "cell_type": "markdown",
   "metadata": {},
   "source": [
    "#### Y cómo miramos la performance del algoritmo? Usando cualquier de las métricas presentadas en la teoría y que se puede encontrar en el módul `metrics` de scikit"
   ]
  },
  {
   "cell_type": "code",
   "execution_count": null,
   "metadata": {},
   "outputs": [],
   "source": [
    "evs = sklearn.metrics.explained_variance_score(Y, Y_pred)\n",
    "mae = sklearn.metrics.mean_absolute_error(Y, Y_pred)\n",
    "mse = sklearn.metrics.mean_squared_error(Y, Y_pred)\n",
    "mne=  sklearn.metrics.median_absolute_error(Y, Y_pred)\n",
    "r2= sklearn.metrics.r2_score(Y, Y_pred)\n",
    "\n",
    "print(\"la varianza explicada es igual a= \" , evs)\n",
    "print(\"El error absoluto medio es igual a = \" , mae)\n",
    "print(\"El error cuadrado medio es igual a = \" , mse)\n",
    "print(\"El error absoluto mediano es igual a = \", mne)\n",
    "print(\"el r2 es igual a = \" , r2)"
   ]
  },
  {
   "cell_type": "markdown",
   "metadata": {},
   "source": [
    "#### Y como cambiaría esto si usamos otros algoritmos, por ejemplo, los introducidos en la teoría?"
   ]
  },
  {
   "cell_type": "code",
   "execution_count": null,
   "metadata": {},
   "outputs": [],
   "source": [
    "from sklearn.linear_model import LinearRegression, Lasso, Ridge, ElasticNet"
   ]
  },
  {
   "cell_type": "code",
   "execution_count": null,
   "metadata": {},
   "outputs": [],
   "source": [
    "# Definimos los objetos \n",
    "clf_1 = LinearRegression()\n",
    "clf_2 = Lasso()\n",
    "clf_3 = Ridge()\n",
    "clf_4 = ElasticNet()"
   ]
  },
  {
   "cell_type": "code",
   "execution_count": null,
   "metadata": {},
   "outputs": [],
   "source": [
    "list_clfs = [clf_1,clf_2,clf_3,clf_4]\n",
    "clas_names = ['Linear Regression', 'Lasso', 'Ridge','ElasticNet']"
   ]
  },
  {
   "cell_type": "code",
   "execution_count": null,
   "metadata": {},
   "outputs": [],
   "source": [
    "fig, axs = plt.subplots(ncols=2, nrows=2, sharey=True, sharex=True)\n",
    "axs=axs.flatten()\n",
    "for idx,clf in enumerate(list_clfs):\n",
    "    ax=axs[idx]\n",
    "    # Hacemos fit\n",
    "    clf.fit(X, Y)\n",
    "    # Hacemos predict\n",
    "    Y_pred = clf.predict(X)\n",
    "    \n",
    "    axs[idx].scatter(Y, Y_pred, s=5)\n",
    "    axs[idx].plot([Y.min(), Y.max()], [Y.min(), Y.max()], 'k--', lw=4)\n",
    "    axs[idx].set_xlabel('')\n",
    "    axs[idx].set_ylabel('')\n",
    "    axs[idx].set_title(clas_names[idx])\n",
    "plt.show()"
   ]
  },
  {
   "cell_type": "code",
   "execution_count": null,
   "metadata": {},
   "outputs": [],
   "source": [
    "for idx,clf in enumerate(list_clfs):\n",
    "    # Hacemos fit\n",
    "    clf.fit(X, Y)\n",
    "    # Hacemos predict\n",
    "    Y_pred = clf.predict(X)\n",
    "    \n",
    "    evs = sklearn.metrics.explained_variance_score(Y, Y_pred)\n",
    "    mae = sklearn.metrics.mean_absolute_error(Y, Y_pred)\n",
    "    mse = sklearn.metrics.mean_squared_error(Y, Y_pred)\n",
    "    mne=  sklearn.metrics.median_absolute_error(Y, Y_pred)\n",
    "    r2= sklearn.metrics.r2_score(Y, Y_pred)\n",
    "    \n",
    "    print(\" las metricas para el modelo \", clas_names[idx], \" son \")\n",
    "    print(\"evs = \" , np.round(evs, 3), \" mae= \", np.round(mae,3), \" mse= \",np.round(mse,3),\\\n",
    "          \" mne = \", np.round(mne,3), \" r2 = \", np.round(r2, 3))\n",
    "    print(\" \")\n",
    "    "
   ]
  }
 ],
 "metadata": {
  "kernelspec": {
   "display_name": "Python 2",
   "language": "python",
   "name": "python2"
  },
  "language_info": {
   "codemirror_mode": {
    "name": "ipython",
    "version": 2
   },
   "file_extension": ".py",
   "mimetype": "text/x-python",
   "name": "python",
   "nbconvert_exporter": "python",
   "pygments_lexer": "ipython2",
   "version": "2.7.14"
  }
 },
 "nbformat": 4,
 "nbformat_minor": 2
}
