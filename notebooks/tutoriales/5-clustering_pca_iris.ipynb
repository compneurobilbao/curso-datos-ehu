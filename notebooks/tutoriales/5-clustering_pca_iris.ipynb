{
 "cells": [
  {
   "cell_type": "markdown",
   "metadata": {},
   "source": [
    "## En este notebook vamos ver cómo aplicar los diferentes algoritmos de clustering a la data de iris y algunas aplicaciones de la PCA"
   ]
  },
  {
   "cell_type": "code",
   "execution_count": 2,
   "metadata": {},
   "outputs": [],
   "source": [
    "import numpy as np\n",
    "import pandas as pd\n",
    "import matplotlib.pylab as plt\n",
    "%matplotlib  notebook"
   ]
  },
  {
   "cell_type": "markdown",
   "metadata": {},
   "source": [
    "Esta dataset se podía cargar directamente de scikit, dentro del módulo datasets"
   ]
  },
  {
   "cell_type": "code",
   "execution_count": 3,
   "metadata": {},
   "outputs": [],
   "source": [
    "from sklearn.datasets import load_iris"
   ]
  },
  {
   "cell_type": "code",
   "execution_count": 4,
   "metadata": {},
   "outputs": [],
   "source": [
    "data = load_iris()"
   ]
  },
  {
   "cell_type": "code",
   "execution_count": 5,
   "metadata": {},
   "outputs": [],
   "source": [
    "X = data.data"
   ]
  },
  {
   "cell_type": "code",
   "execution_count": 6,
   "metadata": {},
   "outputs": [],
   "source": [
    "y = data.target"
   ]
  },
  {
   "cell_type": "markdown",
   "metadata": {},
   "source": [
    "Vamos a hacer un scatter plot con las diferentes combinaciones de los 4 features"
   ]
  },
  {
   "cell_type": "code",
   "execution_count": 7,
   "metadata": {},
   "outputs": [
    {
     "data": {
      "application/javascript": [
       "/* Put everything inside the global mpl namespace */\n",
       "window.mpl = {};\n",
       "\n",
       "\n",
       "mpl.get_websocket_type = function() {\n",
       "    if (typeof(WebSocket) !== 'undefined') {\n",
       "        return WebSocket;\n",
       "    } else if (typeof(MozWebSocket) !== 'undefined') {\n",
       "        return MozWebSocket;\n",
       "    } else {\n",
       "        alert('Your browser does not have WebSocket support.' +\n",
       "              'Please try Chrome, Safari or Firefox ≥ 6. ' +\n",
       "              'Firefox 4 and 5 are also supported but you ' +\n",
       "              'have to enable WebSockets in about:config.');\n",
       "    };\n",
       "}\n",
       "\n",
       "mpl.figure = function(figure_id, websocket, ondownload, parent_element) {\n",
       "    this.id = figure_id;\n",
       "\n",
       "    this.ws = websocket;\n",
       "\n",
       "    this.supports_binary = (this.ws.binaryType != undefined);\n",
       "\n",
       "    if (!this.supports_binary) {\n",
       "        var warnings = document.getElementById(\"mpl-warnings\");\n",
       "        if (warnings) {\n",
       "            warnings.style.display = 'block';\n",
       "            warnings.textContent = (\n",
       "                \"This browser does not support binary websocket messages. \" +\n",
       "                    \"Performance may be slow.\");\n",
       "        }\n",
       "    }\n",
       "\n",
       "    this.imageObj = new Image();\n",
       "\n",
       "    this.context = undefined;\n",
       "    this.message = undefined;\n",
       "    this.canvas = undefined;\n",
       "    this.rubberband_canvas = undefined;\n",
       "    this.rubberband_context = undefined;\n",
       "    this.format_dropdown = undefined;\n",
       "\n",
       "    this.image_mode = 'full';\n",
       "\n",
       "    this.root = $('<div/>');\n",
       "    this._root_extra_style(this.root)\n",
       "    this.root.attr('style', 'display: inline-block');\n",
       "\n",
       "    $(parent_element).append(this.root);\n",
       "\n",
       "    this._init_header(this);\n",
       "    this._init_canvas(this);\n",
       "    this._init_toolbar(this);\n",
       "\n",
       "    var fig = this;\n",
       "\n",
       "    this.waiting = false;\n",
       "\n",
       "    this.ws.onopen =  function () {\n",
       "            fig.send_message(\"supports_binary\", {value: fig.supports_binary});\n",
       "            fig.send_message(\"send_image_mode\", {});\n",
       "            if (mpl.ratio != 1) {\n",
       "                fig.send_message(\"set_dpi_ratio\", {'dpi_ratio': mpl.ratio});\n",
       "            }\n",
       "            fig.send_message(\"refresh\", {});\n",
       "        }\n",
       "\n",
       "    this.imageObj.onload = function() {\n",
       "            if (fig.image_mode == 'full') {\n",
       "                // Full images could contain transparency (where diff images\n",
       "                // almost always do), so we need to clear the canvas so that\n",
       "                // there is no ghosting.\n",
       "                fig.context.clearRect(0, 0, fig.canvas.width, fig.canvas.height);\n",
       "            }\n",
       "            fig.context.drawImage(fig.imageObj, 0, 0);\n",
       "        };\n",
       "\n",
       "    this.imageObj.onunload = function() {\n",
       "        fig.ws.close();\n",
       "    }\n",
       "\n",
       "    this.ws.onmessage = this._make_on_message_function(this);\n",
       "\n",
       "    this.ondownload = ondownload;\n",
       "}\n",
       "\n",
       "mpl.figure.prototype._init_header = function() {\n",
       "    var titlebar = $(\n",
       "        '<div class=\"ui-dialog-titlebar ui-widget-header ui-corner-all ' +\n",
       "        'ui-helper-clearfix\"/>');\n",
       "    var titletext = $(\n",
       "        '<div class=\"ui-dialog-title\" style=\"width: 100%; ' +\n",
       "        'text-align: center; padding: 3px;\"/>');\n",
       "    titlebar.append(titletext)\n",
       "    this.root.append(titlebar);\n",
       "    this.header = titletext[0];\n",
       "}\n",
       "\n",
       "\n",
       "\n",
       "mpl.figure.prototype._canvas_extra_style = function(canvas_div) {\n",
       "\n",
       "}\n",
       "\n",
       "\n",
       "mpl.figure.prototype._root_extra_style = function(canvas_div) {\n",
       "\n",
       "}\n",
       "\n",
       "mpl.figure.prototype._init_canvas = function() {\n",
       "    var fig = this;\n",
       "\n",
       "    var canvas_div = $('<div/>');\n",
       "\n",
       "    canvas_div.attr('style', 'position: relative; clear: both; outline: 0');\n",
       "\n",
       "    function canvas_keyboard_event(event) {\n",
       "        return fig.key_event(event, event['data']);\n",
       "    }\n",
       "\n",
       "    canvas_div.keydown('key_press', canvas_keyboard_event);\n",
       "    canvas_div.keyup('key_release', canvas_keyboard_event);\n",
       "    this.canvas_div = canvas_div\n",
       "    this._canvas_extra_style(canvas_div)\n",
       "    this.root.append(canvas_div);\n",
       "\n",
       "    var canvas = $('<canvas/>');\n",
       "    canvas.addClass('mpl-canvas');\n",
       "    canvas.attr('style', \"left: 0; top: 0; z-index: 0; outline: 0\")\n",
       "\n",
       "    this.canvas = canvas[0];\n",
       "    this.context = canvas[0].getContext(\"2d\");\n",
       "\n",
       "    var backingStore = this.context.backingStorePixelRatio ||\n",
       "\tthis.context.webkitBackingStorePixelRatio ||\n",
       "\tthis.context.mozBackingStorePixelRatio ||\n",
       "\tthis.context.msBackingStorePixelRatio ||\n",
       "\tthis.context.oBackingStorePixelRatio ||\n",
       "\tthis.context.backingStorePixelRatio || 1;\n",
       "\n",
       "    mpl.ratio = (window.devicePixelRatio || 1) / backingStore;\n",
       "\n",
       "    var rubberband = $('<canvas/>');\n",
       "    rubberband.attr('style', \"position: absolute; left: 0; top: 0; z-index: 1;\")\n",
       "\n",
       "    var pass_mouse_events = true;\n",
       "\n",
       "    canvas_div.resizable({\n",
       "        start: function(event, ui) {\n",
       "            pass_mouse_events = false;\n",
       "        },\n",
       "        resize: function(event, ui) {\n",
       "            fig.request_resize(ui.size.width, ui.size.height);\n",
       "        },\n",
       "        stop: function(event, ui) {\n",
       "            pass_mouse_events = true;\n",
       "            fig.request_resize(ui.size.width, ui.size.height);\n",
       "        },\n",
       "    });\n",
       "\n",
       "    function mouse_event_fn(event) {\n",
       "        if (pass_mouse_events)\n",
       "            return fig.mouse_event(event, event['data']);\n",
       "    }\n",
       "\n",
       "    rubberband.mousedown('button_press', mouse_event_fn);\n",
       "    rubberband.mouseup('button_release', mouse_event_fn);\n",
       "    // Throttle sequential mouse events to 1 every 20ms.\n",
       "    rubberband.mousemove('motion_notify', mouse_event_fn);\n",
       "\n",
       "    rubberband.mouseenter('figure_enter', mouse_event_fn);\n",
       "    rubberband.mouseleave('figure_leave', mouse_event_fn);\n",
       "\n",
       "    canvas_div.on(\"wheel\", function (event) {\n",
       "        event = event.originalEvent;\n",
       "        event['data'] = 'scroll'\n",
       "        if (event.deltaY < 0) {\n",
       "            event.step = 1;\n",
       "        } else {\n",
       "            event.step = -1;\n",
       "        }\n",
       "        mouse_event_fn(event);\n",
       "    });\n",
       "\n",
       "    canvas_div.append(canvas);\n",
       "    canvas_div.append(rubberband);\n",
       "\n",
       "    this.rubberband = rubberband;\n",
       "    this.rubberband_canvas = rubberband[0];\n",
       "    this.rubberband_context = rubberband[0].getContext(\"2d\");\n",
       "    this.rubberband_context.strokeStyle = \"#000000\";\n",
       "\n",
       "    this._resize_canvas = function(width, height) {\n",
       "        // Keep the size of the canvas, canvas container, and rubber band\n",
       "        // canvas in synch.\n",
       "        canvas_div.css('width', width)\n",
       "        canvas_div.css('height', height)\n",
       "\n",
       "        canvas.attr('width', width * mpl.ratio);\n",
       "        canvas.attr('height', height * mpl.ratio);\n",
       "        canvas.attr('style', 'width: ' + width + 'px; height: ' + height + 'px;');\n",
       "\n",
       "        rubberband.attr('width', width);\n",
       "        rubberband.attr('height', height);\n",
       "    }\n",
       "\n",
       "    // Set the figure to an initial 600x600px, this will subsequently be updated\n",
       "    // upon first draw.\n",
       "    this._resize_canvas(600, 600);\n",
       "\n",
       "    // Disable right mouse context menu.\n",
       "    $(this.rubberband_canvas).bind(\"contextmenu\",function(e){\n",
       "        return false;\n",
       "    });\n",
       "\n",
       "    function set_focus () {\n",
       "        canvas.focus();\n",
       "        canvas_div.focus();\n",
       "    }\n",
       "\n",
       "    window.setTimeout(set_focus, 100);\n",
       "}\n",
       "\n",
       "mpl.figure.prototype._init_toolbar = function() {\n",
       "    var fig = this;\n",
       "\n",
       "    var nav_element = $('<div/>')\n",
       "    nav_element.attr('style', 'width: 100%');\n",
       "    this.root.append(nav_element);\n",
       "\n",
       "    // Define a callback function for later on.\n",
       "    function toolbar_event(event) {\n",
       "        return fig.toolbar_button_onclick(event['data']);\n",
       "    }\n",
       "    function toolbar_mouse_event(event) {\n",
       "        return fig.toolbar_button_onmouseover(event['data']);\n",
       "    }\n",
       "\n",
       "    for(var toolbar_ind in mpl.toolbar_items) {\n",
       "        var name = mpl.toolbar_items[toolbar_ind][0];\n",
       "        var tooltip = mpl.toolbar_items[toolbar_ind][1];\n",
       "        var image = mpl.toolbar_items[toolbar_ind][2];\n",
       "        var method_name = mpl.toolbar_items[toolbar_ind][3];\n",
       "\n",
       "        if (!name) {\n",
       "            // put a spacer in here.\n",
       "            continue;\n",
       "        }\n",
       "        var button = $('<button/>');\n",
       "        button.addClass('ui-button ui-widget ui-state-default ui-corner-all ' +\n",
       "                        'ui-button-icon-only');\n",
       "        button.attr('role', 'button');\n",
       "        button.attr('aria-disabled', 'false');\n",
       "        button.click(method_name, toolbar_event);\n",
       "        button.mouseover(tooltip, toolbar_mouse_event);\n",
       "\n",
       "        var icon_img = $('<span/>');\n",
       "        icon_img.addClass('ui-button-icon-primary ui-icon');\n",
       "        icon_img.addClass(image);\n",
       "        icon_img.addClass('ui-corner-all');\n",
       "\n",
       "        var tooltip_span = $('<span/>');\n",
       "        tooltip_span.addClass('ui-button-text');\n",
       "        tooltip_span.html(tooltip);\n",
       "\n",
       "        button.append(icon_img);\n",
       "        button.append(tooltip_span);\n",
       "\n",
       "        nav_element.append(button);\n",
       "    }\n",
       "\n",
       "    var fmt_picker_span = $('<span/>');\n",
       "\n",
       "    var fmt_picker = $('<select/>');\n",
       "    fmt_picker.addClass('mpl-toolbar-option ui-widget ui-widget-content');\n",
       "    fmt_picker_span.append(fmt_picker);\n",
       "    nav_element.append(fmt_picker_span);\n",
       "    this.format_dropdown = fmt_picker[0];\n",
       "\n",
       "    for (var ind in mpl.extensions) {\n",
       "        var fmt = mpl.extensions[ind];\n",
       "        var option = $(\n",
       "            '<option/>', {selected: fmt === mpl.default_extension}).html(fmt);\n",
       "        fmt_picker.append(option)\n",
       "    }\n",
       "\n",
       "    // Add hover states to the ui-buttons\n",
       "    $( \".ui-button\" ).hover(\n",
       "        function() { $(this).addClass(\"ui-state-hover\");},\n",
       "        function() { $(this).removeClass(\"ui-state-hover\");}\n",
       "    );\n",
       "\n",
       "    var status_bar = $('<span class=\"mpl-message\"/>');\n",
       "    nav_element.append(status_bar);\n",
       "    this.message = status_bar[0];\n",
       "}\n",
       "\n",
       "mpl.figure.prototype.request_resize = function(x_pixels, y_pixels) {\n",
       "    // Request matplotlib to resize the figure. Matplotlib will then trigger a resize in the client,\n",
       "    // which will in turn request a refresh of the image.\n",
       "    this.send_message('resize', {'width': x_pixels, 'height': y_pixels});\n",
       "}\n",
       "\n",
       "mpl.figure.prototype.send_message = function(type, properties) {\n",
       "    properties['type'] = type;\n",
       "    properties['figure_id'] = this.id;\n",
       "    this.ws.send(JSON.stringify(properties));\n",
       "}\n",
       "\n",
       "mpl.figure.prototype.send_draw_message = function() {\n",
       "    if (!this.waiting) {\n",
       "        this.waiting = true;\n",
       "        this.ws.send(JSON.stringify({type: \"draw\", figure_id: this.id}));\n",
       "    }\n",
       "}\n",
       "\n",
       "\n",
       "mpl.figure.prototype.handle_save = function(fig, msg) {\n",
       "    var format_dropdown = fig.format_dropdown;\n",
       "    var format = format_dropdown.options[format_dropdown.selectedIndex].value;\n",
       "    fig.ondownload(fig, format);\n",
       "}\n",
       "\n",
       "\n",
       "mpl.figure.prototype.handle_resize = function(fig, msg) {\n",
       "    var size = msg['size'];\n",
       "    if (size[0] != fig.canvas.width || size[1] != fig.canvas.height) {\n",
       "        fig._resize_canvas(size[0], size[1]);\n",
       "        fig.send_message(\"refresh\", {});\n",
       "    };\n",
       "}\n",
       "\n",
       "mpl.figure.prototype.handle_rubberband = function(fig, msg) {\n",
       "    var x0 = msg['x0'] / mpl.ratio;\n",
       "    var y0 = (fig.canvas.height - msg['y0']) / mpl.ratio;\n",
       "    var x1 = msg['x1'] / mpl.ratio;\n",
       "    var y1 = (fig.canvas.height - msg['y1']) / mpl.ratio;\n",
       "    x0 = Math.floor(x0) + 0.5;\n",
       "    y0 = Math.floor(y0) + 0.5;\n",
       "    x1 = Math.floor(x1) + 0.5;\n",
       "    y1 = Math.floor(y1) + 0.5;\n",
       "    var min_x = Math.min(x0, x1);\n",
       "    var min_y = Math.min(y0, y1);\n",
       "    var width = Math.abs(x1 - x0);\n",
       "    var height = Math.abs(y1 - y0);\n",
       "\n",
       "    fig.rubberband_context.clearRect(\n",
       "        0, 0, fig.canvas.width, fig.canvas.height);\n",
       "\n",
       "    fig.rubberband_context.strokeRect(min_x, min_y, width, height);\n",
       "}\n",
       "\n",
       "mpl.figure.prototype.handle_figure_label = function(fig, msg) {\n",
       "    // Updates the figure title.\n",
       "    fig.header.textContent = msg['label'];\n",
       "}\n",
       "\n",
       "mpl.figure.prototype.handle_cursor = function(fig, msg) {\n",
       "    var cursor = msg['cursor'];\n",
       "    switch(cursor)\n",
       "    {\n",
       "    case 0:\n",
       "        cursor = 'pointer';\n",
       "        break;\n",
       "    case 1:\n",
       "        cursor = 'default';\n",
       "        break;\n",
       "    case 2:\n",
       "        cursor = 'crosshair';\n",
       "        break;\n",
       "    case 3:\n",
       "        cursor = 'move';\n",
       "        break;\n",
       "    }\n",
       "    fig.rubberband_canvas.style.cursor = cursor;\n",
       "}\n",
       "\n",
       "mpl.figure.prototype.handle_message = function(fig, msg) {\n",
       "    fig.message.textContent = msg['message'];\n",
       "}\n",
       "\n",
       "mpl.figure.prototype.handle_draw = function(fig, msg) {\n",
       "    // Request the server to send over a new figure.\n",
       "    fig.send_draw_message();\n",
       "}\n",
       "\n",
       "mpl.figure.prototype.handle_image_mode = function(fig, msg) {\n",
       "    fig.image_mode = msg['mode'];\n",
       "}\n",
       "\n",
       "mpl.figure.prototype.updated_canvas_event = function() {\n",
       "    // Called whenever the canvas gets updated.\n",
       "    this.send_message(\"ack\", {});\n",
       "}\n",
       "\n",
       "// A function to construct a web socket function for onmessage handling.\n",
       "// Called in the figure constructor.\n",
       "mpl.figure.prototype._make_on_message_function = function(fig) {\n",
       "    return function socket_on_message(evt) {\n",
       "        if (evt.data instanceof Blob) {\n",
       "            /* FIXME: We get \"Resource interpreted as Image but\n",
       "             * transferred with MIME type text/plain:\" errors on\n",
       "             * Chrome.  But how to set the MIME type?  It doesn't seem\n",
       "             * to be part of the websocket stream */\n",
       "            evt.data.type = \"image/png\";\n",
       "\n",
       "            /* Free the memory for the previous frames */\n",
       "            if (fig.imageObj.src) {\n",
       "                (window.URL || window.webkitURL).revokeObjectURL(\n",
       "                    fig.imageObj.src);\n",
       "            }\n",
       "\n",
       "            fig.imageObj.src = (window.URL || window.webkitURL).createObjectURL(\n",
       "                evt.data);\n",
       "            fig.updated_canvas_event();\n",
       "            fig.waiting = false;\n",
       "            return;\n",
       "        }\n",
       "        else if (typeof evt.data === 'string' && evt.data.slice(0, 21) == \"data:image/png;base64\") {\n",
       "            fig.imageObj.src = evt.data;\n",
       "            fig.updated_canvas_event();\n",
       "            fig.waiting = false;\n",
       "            return;\n",
       "        }\n",
       "\n",
       "        var msg = JSON.parse(evt.data);\n",
       "        var msg_type = msg['type'];\n",
       "\n",
       "        // Call the  \"handle_{type}\" callback, which takes\n",
       "        // the figure and JSON message as its only arguments.\n",
       "        try {\n",
       "            var callback = fig[\"handle_\" + msg_type];\n",
       "        } catch (e) {\n",
       "            console.log(\"No handler for the '\" + msg_type + \"' message type: \", msg);\n",
       "            return;\n",
       "        }\n",
       "\n",
       "        if (callback) {\n",
       "            try {\n",
       "                // console.log(\"Handling '\" + msg_type + \"' message: \", msg);\n",
       "                callback(fig, msg);\n",
       "            } catch (e) {\n",
       "                console.log(\"Exception inside the 'handler_\" + msg_type + \"' callback:\", e, e.stack, msg);\n",
       "            }\n",
       "        }\n",
       "    };\n",
       "}\n",
       "\n",
       "// from http://stackoverflow.com/questions/1114465/getting-mouse-location-in-canvas\n",
       "mpl.findpos = function(e) {\n",
       "    //this section is from http://www.quirksmode.org/js/events_properties.html\n",
       "    var targ;\n",
       "    if (!e)\n",
       "        e = window.event;\n",
       "    if (e.target)\n",
       "        targ = e.target;\n",
       "    else if (e.srcElement)\n",
       "        targ = e.srcElement;\n",
       "    if (targ.nodeType == 3) // defeat Safari bug\n",
       "        targ = targ.parentNode;\n",
       "\n",
       "    // jQuery normalizes the pageX and pageY\n",
       "    // pageX,Y are the mouse positions relative to the document\n",
       "    // offset() returns the position of the element relative to the document\n",
       "    var x = e.pageX - $(targ).offset().left;\n",
       "    var y = e.pageY - $(targ).offset().top;\n",
       "\n",
       "    return {\"x\": x, \"y\": y};\n",
       "};\n",
       "\n",
       "/*\n",
       " * return a copy of an object with only non-object keys\n",
       " * we need this to avoid circular references\n",
       " * http://stackoverflow.com/a/24161582/3208463\n",
       " */\n",
       "function simpleKeys (original) {\n",
       "  return Object.keys(original).reduce(function (obj, key) {\n",
       "    if (typeof original[key] !== 'object')\n",
       "        obj[key] = original[key]\n",
       "    return obj;\n",
       "  }, {});\n",
       "}\n",
       "\n",
       "mpl.figure.prototype.mouse_event = function(event, name) {\n",
       "    var canvas_pos = mpl.findpos(event)\n",
       "\n",
       "    if (name === 'button_press')\n",
       "    {\n",
       "        this.canvas.focus();\n",
       "        this.canvas_div.focus();\n",
       "    }\n",
       "\n",
       "    var x = canvas_pos.x * mpl.ratio;\n",
       "    var y = canvas_pos.y * mpl.ratio;\n",
       "\n",
       "    this.send_message(name, {x: x, y: y, button: event.button,\n",
       "                             step: event.step,\n",
       "                             guiEvent: simpleKeys(event)});\n",
       "\n",
       "    /* This prevents the web browser from automatically changing to\n",
       "     * the text insertion cursor when the button is pressed.  We want\n",
       "     * to control all of the cursor setting manually through the\n",
       "     * 'cursor' event from matplotlib */\n",
       "    event.preventDefault();\n",
       "    return false;\n",
       "}\n",
       "\n",
       "mpl.figure.prototype._key_event_extra = function(event, name) {\n",
       "    // Handle any extra behaviour associated with a key event\n",
       "}\n",
       "\n",
       "mpl.figure.prototype.key_event = function(event, name) {\n",
       "\n",
       "    // Prevent repeat events\n",
       "    if (name == 'key_press')\n",
       "    {\n",
       "        if (event.which === this._key)\n",
       "            return;\n",
       "        else\n",
       "            this._key = event.which;\n",
       "    }\n",
       "    if (name == 'key_release')\n",
       "        this._key = null;\n",
       "\n",
       "    var value = '';\n",
       "    if (event.ctrlKey && event.which != 17)\n",
       "        value += \"ctrl+\";\n",
       "    if (event.altKey && event.which != 18)\n",
       "        value += \"alt+\";\n",
       "    if (event.shiftKey && event.which != 16)\n",
       "        value += \"shift+\";\n",
       "\n",
       "    value += 'k';\n",
       "    value += event.which.toString();\n",
       "\n",
       "    this._key_event_extra(event, name);\n",
       "\n",
       "    this.send_message(name, {key: value,\n",
       "                             guiEvent: simpleKeys(event)});\n",
       "    return false;\n",
       "}\n",
       "\n",
       "mpl.figure.prototype.toolbar_button_onclick = function(name) {\n",
       "    if (name == 'download') {\n",
       "        this.handle_save(this, null);\n",
       "    } else {\n",
       "        this.send_message(\"toolbar_button\", {name: name});\n",
       "    }\n",
       "};\n",
       "\n",
       "mpl.figure.prototype.toolbar_button_onmouseover = function(tooltip) {\n",
       "    this.message.textContent = tooltip;\n",
       "};\n",
       "mpl.toolbar_items = [[\"Home\", \"Reset original view\", \"fa fa-home icon-home\", \"home\"], [\"Back\", \"Back to  previous view\", \"fa fa-arrow-left icon-arrow-left\", \"back\"], [\"Forward\", \"Forward to next view\", \"fa fa-arrow-right icon-arrow-right\", \"forward\"], [\"\", \"\", \"\", \"\"], [\"Pan\", \"Pan axes with left mouse, zoom with right\", \"fa fa-arrows icon-move\", \"pan\"], [\"Zoom\", \"Zoom to rectangle\", \"fa fa-square-o icon-check-empty\", \"zoom\"], [\"\", \"\", \"\", \"\"], [\"Download\", \"Download plot\", \"fa fa-floppy-o icon-save\", \"download\"]];\n",
       "\n",
       "mpl.extensions = [\"eps\", \"jpeg\", \"pdf\", \"png\", \"ps\", \"raw\", \"svg\", \"tif\"];\n",
       "\n",
       "mpl.default_extension = \"png\";var comm_websocket_adapter = function(comm) {\n",
       "    // Create a \"websocket\"-like object which calls the given IPython comm\n",
       "    // object with the appropriate methods. Currently this is a non binary\n",
       "    // socket, so there is still some room for performance tuning.\n",
       "    var ws = {};\n",
       "\n",
       "    ws.close = function() {\n",
       "        comm.close()\n",
       "    };\n",
       "    ws.send = function(m) {\n",
       "        //console.log('sending', m);\n",
       "        comm.send(m);\n",
       "    };\n",
       "    // Register the callback with on_msg.\n",
       "    comm.on_msg(function(msg) {\n",
       "        //console.log('receiving', msg['content']['data'], msg);\n",
       "        // Pass the mpl event to the overriden (by mpl) onmessage function.\n",
       "        ws.onmessage(msg['content']['data'])\n",
       "    });\n",
       "    return ws;\n",
       "}\n",
       "\n",
       "mpl.mpl_figure_comm = function(comm, msg) {\n",
       "    // This is the function which gets called when the mpl process\n",
       "    // starts-up an IPython Comm through the \"matplotlib\" channel.\n",
       "\n",
       "    var id = msg.content.data.id;\n",
       "    // Get hold of the div created by the display call when the Comm\n",
       "    // socket was opened in Python.\n",
       "    var element = $(\"#\" + id);\n",
       "    var ws_proxy = comm_websocket_adapter(comm)\n",
       "\n",
       "    function ondownload(figure, format) {\n",
       "        window.open(figure.imageObj.src);\n",
       "    }\n",
       "\n",
       "    var fig = new mpl.figure(id, ws_proxy,\n",
       "                           ondownload,\n",
       "                           element.get(0));\n",
       "\n",
       "    // Call onopen now - mpl needs it, as it is assuming we've passed it a real\n",
       "    // web socket which is closed, not our websocket->open comm proxy.\n",
       "    ws_proxy.onopen();\n",
       "\n",
       "    fig.parent_element = element.get(0);\n",
       "    fig.cell_info = mpl.find_output_cell(\"<div id='\" + id + \"'></div>\");\n",
       "    if (!fig.cell_info) {\n",
       "        console.error(\"Failed to find cell for figure\", id, fig);\n",
       "        return;\n",
       "    }\n",
       "\n",
       "    var output_index = fig.cell_info[2]\n",
       "    var cell = fig.cell_info[0];\n",
       "\n",
       "};\n",
       "\n",
       "mpl.figure.prototype.handle_close = function(fig, msg) {\n",
       "    var width = fig.canvas.width/mpl.ratio\n",
       "    fig.root.unbind('remove')\n",
       "\n",
       "    // Update the output cell to use the data from the current canvas.\n",
       "    fig.push_to_output();\n",
       "    var dataURL = fig.canvas.toDataURL();\n",
       "    // Re-enable the keyboard manager in IPython - without this line, in FF,\n",
       "    // the notebook keyboard shortcuts fail.\n",
       "    IPython.keyboard_manager.enable()\n",
       "    $(fig.parent_element).html('<img src=\"' + dataURL + '\" width=\"' + width + '\">');\n",
       "    fig.close_ws(fig, msg);\n",
       "}\n",
       "\n",
       "mpl.figure.prototype.close_ws = function(fig, msg){\n",
       "    fig.send_message('closing', msg);\n",
       "    // fig.ws.close()\n",
       "}\n",
       "\n",
       "mpl.figure.prototype.push_to_output = function(remove_interactive) {\n",
       "    // Turn the data on the canvas into data in the output cell.\n",
       "    var width = this.canvas.width/mpl.ratio\n",
       "    var dataURL = this.canvas.toDataURL();\n",
       "    this.cell_info[1]['text/html'] = '<img src=\"' + dataURL + '\" width=\"' + width + '\">';\n",
       "}\n",
       "\n",
       "mpl.figure.prototype.updated_canvas_event = function() {\n",
       "    // Tell IPython that the notebook contents must change.\n",
       "    IPython.notebook.set_dirty(true);\n",
       "    this.send_message(\"ack\", {});\n",
       "    var fig = this;\n",
       "    // Wait a second, then push the new image to the DOM so\n",
       "    // that it is saved nicely (might be nice to debounce this).\n",
       "    setTimeout(function () { fig.push_to_output() }, 1000);\n",
       "}\n",
       "\n",
       "mpl.figure.prototype._init_toolbar = function() {\n",
       "    var fig = this;\n",
       "\n",
       "    var nav_element = $('<div/>')\n",
       "    nav_element.attr('style', 'width: 100%');\n",
       "    this.root.append(nav_element);\n",
       "\n",
       "    // Define a callback function for later on.\n",
       "    function toolbar_event(event) {\n",
       "        return fig.toolbar_button_onclick(event['data']);\n",
       "    }\n",
       "    function toolbar_mouse_event(event) {\n",
       "        return fig.toolbar_button_onmouseover(event['data']);\n",
       "    }\n",
       "\n",
       "    for(var toolbar_ind in mpl.toolbar_items){\n",
       "        var name = mpl.toolbar_items[toolbar_ind][0];\n",
       "        var tooltip = mpl.toolbar_items[toolbar_ind][1];\n",
       "        var image = mpl.toolbar_items[toolbar_ind][2];\n",
       "        var method_name = mpl.toolbar_items[toolbar_ind][3];\n",
       "\n",
       "        if (!name) { continue; };\n",
       "\n",
       "        var button = $('<button class=\"btn btn-default\" href=\"#\" title=\"' + name + '\"><i class=\"fa ' + image + ' fa-lg\"></i></button>');\n",
       "        button.click(method_name, toolbar_event);\n",
       "        button.mouseover(tooltip, toolbar_mouse_event);\n",
       "        nav_element.append(button);\n",
       "    }\n",
       "\n",
       "    // Add the status bar.\n",
       "    var status_bar = $('<span class=\"mpl-message\" style=\"text-align:right; float: right;\"/>');\n",
       "    nav_element.append(status_bar);\n",
       "    this.message = status_bar[0];\n",
       "\n",
       "    // Add the close button to the window.\n",
       "    var buttongrp = $('<div class=\"btn-group inline pull-right\"></div>');\n",
       "    var button = $('<button class=\"btn btn-mini btn-primary\" href=\"#\" title=\"Stop Interaction\"><i class=\"fa fa-power-off icon-remove icon-large\"></i></button>');\n",
       "    button.click(function (evt) { fig.handle_close(fig, {}); } );\n",
       "    button.mouseover('Stop Interaction', toolbar_mouse_event);\n",
       "    buttongrp.append(button);\n",
       "    var titlebar = this.root.find($('.ui-dialog-titlebar'));\n",
       "    titlebar.prepend(buttongrp);\n",
       "}\n",
       "\n",
       "mpl.figure.prototype._root_extra_style = function(el){\n",
       "    var fig = this\n",
       "    el.on(\"remove\", function(){\n",
       "\tfig.close_ws(fig, {});\n",
       "    });\n",
       "}\n",
       "\n",
       "mpl.figure.prototype._canvas_extra_style = function(el){\n",
       "    // this is important to make the div 'focusable\n",
       "    el.attr('tabindex', 0)\n",
       "    // reach out to IPython and tell the keyboard manager to turn it's self\n",
       "    // off when our div gets focus\n",
       "\n",
       "    // location in version 3\n",
       "    if (IPython.notebook.keyboard_manager) {\n",
       "        IPython.notebook.keyboard_manager.register_events(el);\n",
       "    }\n",
       "    else {\n",
       "        // location in version 2\n",
       "        IPython.keyboard_manager.register_events(el);\n",
       "    }\n",
       "\n",
       "}\n",
       "\n",
       "mpl.figure.prototype._key_event_extra = function(event, name) {\n",
       "    var manager = IPython.notebook.keyboard_manager;\n",
       "    if (!manager)\n",
       "        manager = IPython.keyboard_manager;\n",
       "\n",
       "    // Check for shift+enter\n",
       "    if (event.shiftKey && event.which == 13) {\n",
       "        this.canvas_div.blur();\n",
       "        event.shiftKey = false;\n",
       "        // Send a \"J\" for go to next cell\n",
       "        event.which = 74;\n",
       "        event.keyCode = 74;\n",
       "        manager.command_mode();\n",
       "        manager.handle_keydown(event);\n",
       "    }\n",
       "}\n",
       "\n",
       "mpl.figure.prototype.handle_save = function(fig, msg) {\n",
       "    fig.ondownload(fig, null);\n",
       "}\n",
       "\n",
       "\n",
       "mpl.find_output_cell = function(html_output) {\n",
       "    // Return the cell and output element which can be found *uniquely* in the notebook.\n",
       "    // Note - this is a bit hacky, but it is done because the \"notebook_saving.Notebook\"\n",
       "    // IPython event is triggered only after the cells have been serialised, which for\n",
       "    // our purposes (turning an active figure into a static one), is too late.\n",
       "    var cells = IPython.notebook.get_cells();\n",
       "    var ncells = cells.length;\n",
       "    for (var i=0; i<ncells; i++) {\n",
       "        var cell = cells[i];\n",
       "        if (cell.cell_type === 'code'){\n",
       "            for (var j=0; j<cell.output_area.outputs.length; j++) {\n",
       "                var data = cell.output_area.outputs[j];\n",
       "                if (data.data) {\n",
       "                    // IPython >= 3 moved mimebundle to data attribute of output\n",
       "                    data = data.data;\n",
       "                }\n",
       "                if (data['text/html'] == html_output) {\n",
       "                    return [cell, data, j];\n",
       "                }\n",
       "            }\n",
       "        }\n",
       "    }\n",
       "}\n",
       "\n",
       "// Register the function which deals with the matplotlib target/channel.\n",
       "// The kernel may be null if the page has been refreshed.\n",
       "if (IPython.notebook.kernel != null) {\n",
       "    IPython.notebook.kernel.comm_manager.register_target('matplotlib', mpl.mpl_figure_comm);\n",
       "}\n"
      ],
      "text/plain": [
       "<IPython.core.display.Javascript object>"
      ]
     },
     "metadata": {},
     "output_type": "display_data"
    },
    {
     "data": {
      "text/html": [
       "<img src=\"data:image/png;base64,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\" width=\"640\">"
      ],
      "text/plain": [
       "<IPython.core.display.HTML object>"
      ]
     },
     "metadata": {},
     "output_type": "display_data"
    },
    {
     "data": {
      "text/plain": [
       "<matplotlib.collections.PathCollection at 0x7f13faa141d0>"
      ]
     },
     "execution_count": 7,
     "metadata": {},
     "output_type": "execute_result"
    }
   ],
   "source": [
    "fig, axs= plt.subplots(nrows=3, ncols=2)\n",
    "axs = axs.flatten()\n",
    "\n",
    "axs[0].scatter(X[:,0],X[:,1], c = y)\n",
    "axs[1].scatter(X[:,0],X[:,2], c = y)\n",
    "axs[2].scatter(X[:,0],X[:,3], c = y)\n",
    "axs[3].scatter(X[:,1],X[:,2], c = y)\n",
    "axs[4].scatter(X[:,1],X[:,3], c = y)\n",
    "axs[5].scatter(X[:,2],X[:,3], c = y)"
   ]
  },
  {
   "cell_type": "markdown",
   "metadata": {},
   "source": [
    "Vamos a estandarizar los datos, puesto que lo vamos a necesitar para hacer el kmeans (dado que todas las variables tiene que ser del mismo rango) y para hacer la pca"
   ]
  },
  {
   "cell_type": "code",
   "execution_count": 8,
   "metadata": {},
   "outputs": [],
   "source": [
    "from sklearn import preprocessing\n",
    "\n",
    "ss = preprocessing.StandardScaler()\n",
    "\n",
    "X_scaled = pd.DataFrame( ss.fit_transform(X), columns = data.feature_names)"
   ]
  },
  {
   "cell_type": "markdown",
   "metadata": {},
   "source": [
    "Probamos diferentes algoritmos de clustering y vemos su rendimiento en la reconstrucción de los tres grupos"
   ]
  },
  {
   "cell_type": "code",
   "execution_count": 9,
   "metadata": {},
   "outputs": [
    {
     "data": {
      "text/plain": [
       "array([1, 1, 1, 1, 1, 1, 1, 1, 1, 1, 1, 1, 1, 1, 1, 1, 1, 1, 1, 1, 1, 1,\n",
       "       1, 1, 1, 1, 1, 1, 1, 1, 1, 1, 1, 1, 1, 1, 1, 1, 1, 1, 1, 1, 1, 1,\n",
       "       1, 1, 1, 1, 1, 1, 2, 2, 2, 0, 0, 0, 2, 0, 0, 0, 0, 0, 0, 0, 0, 2,\n",
       "       0, 0, 0, 0, 2, 0, 0, 0, 0, 2, 2, 2, 0, 0, 0, 0, 0, 0, 0, 2, 2, 0,\n",
       "       0, 0, 0, 0, 0, 0, 0, 0, 0, 0, 0, 0, 2, 0, 2, 2, 2, 2, 0, 2, 2, 2,\n",
       "       2, 2, 2, 0, 0, 2, 2, 2, 2, 0, 2, 0, 2, 0, 2, 2, 0, 2, 2, 2, 2, 2,\n",
       "       2, 0, 0, 2, 2, 2, 0, 2, 2, 2, 0, 2, 2, 2, 0, 2, 2, 0], dtype=int32)"
      ]
     },
     "execution_count": 9,
     "metadata": {},
     "output_type": "execute_result"
    }
   ],
   "source": [
    "from sklearn.cluster import KMeans\n",
    "\n",
    "nclusters = 3\n",
    "\n",
    "km = KMeans(n_clusters=nclusters, random_state=0, n_init=100)\n",
    "km.fit(X_scaled)\n",
    "\n",
    "# predict the cluster for each data point\n",
    "y_cluster_kmeans = km.predict(X_scaled)\n",
    "y_cluster_kmeans"
   ]
  },
  {
   "cell_type": "code",
   "execution_count": 10,
   "metadata": {},
   "outputs": [
    {
     "data": {
      "text/plain": [
       "array([1, 1, 1, 1, 1, 1, 1, 1, 1, 1, 1, 1, 1, 1, 1, 1, 1, 1, 1, 1, 1, 1,\n",
       "       1, 1, 1, 1, 1, 1, 1, 1, 1, 1, 1, 1, 1, 1, 1, 1, 1, 1, 1, 1, 1, 1,\n",
       "       1, 1, 1, 1, 1, 1, 0, 0, 0, 0, 0, 0, 0, 0, 0, 0, 0, 0, 0, 0, 0, 0,\n",
       "       0, 0, 2, 0, 2, 0, 2, 0, 0, 0, 0, 2, 0, 0, 0, 0, 0, 2, 0, 0, 0, 0,\n",
       "       0, 0, 0, 0, 0, 0, 0, 0, 0, 0, 0, 0, 2, 2, 2, 2, 2, 2, 2, 2, 2, 2,\n",
       "       2, 2, 2, 2, 2, 2, 2, 2, 2, 2, 2, 2, 2, 2, 2, 2, 2, 2, 2, 2, 2, 2,\n",
       "       2, 2, 2, 2, 2, 2, 2, 2, 2, 2, 2, 2, 2, 2, 2, 2, 2, 2])"
      ]
     },
     "execution_count": 10,
     "metadata": {},
     "output_type": "execute_result"
    }
   ],
   "source": [
    "from sklearn.mixture import GaussianMixture\n",
    "\n",
    "gmm = GaussianMixture(n_components=nclusters,n_init = 100, random_state=100)\n",
    "gmm.fit(X_scaled)\n",
    "\n",
    "# predict the cluster for each data point\n",
    "y_cluster_gmm = gmm.predict(X_scaled)\n",
    "y_cluster_gmm"
   ]
  },
  {
   "cell_type": "code",
   "execution_count": 11,
   "metadata": {},
   "outputs": [
    {
     "data": {
      "text/plain": [
       "array([1, 1, 1, 1, 1, 1, 1, 1, 1, 1, 1, 1, 1, 1, 1, 1, 1, 1, 1, 1, 1, 1,\n",
       "       1, 1, 1, 1, 1, 1, 1, 1, 1, 1, 1, 1, 1, 1, 1, 1, 1, 1, 1, 2, 1, 1,\n",
       "       1, 1, 1, 1, 1, 1, 0, 0, 0, 2, 0, 2, 0, 2, 0, 2, 2, 0, 2, 0, 2, 0,\n",
       "       2, 2, 2, 2, 0, 0, 0, 0, 0, 0, 0, 0, 0, 2, 2, 2, 2, 0, 2, 0, 0, 2,\n",
       "       2, 2, 2, 0, 2, 2, 2, 2, 2, 0, 2, 2, 0, 0, 0, 0, 0, 0, 2, 0, 0, 0,\n",
       "       0, 0, 0, 0, 0, 0, 0, 0, 0, 2, 0, 0, 0, 0, 0, 0, 0, 0, 0, 0, 0, 0,\n",
       "       0, 0, 0, 0, 0, 0, 0, 0, 0, 0, 0, 0, 0, 0, 0, 0, 0, 0])"
      ]
     },
     "execution_count": 11,
     "metadata": {},
     "output_type": "execute_result"
    }
   ],
   "source": [
    "from sklearn.cluster import AgglomerativeClustering\n",
    "\n",
    "agg = AgglomerativeClustering(n_clusters=3,compute_full_tree=True)\n",
    "y_cluster_agg = agg.fit_predict(X_scaled)\n",
    "y_cluster_agg"
   ]
  },
  {
   "cell_type": "code",
   "execution_count": 12,
   "metadata": {},
   "outputs": [
    {
     "name": "stdout",
     "output_type": "stream",
     "text": [
      "0.6598476779627759\n",
      "0.9010648908640206\n",
      "0.6940248415952218\n"
     ]
    }
   ],
   "source": [
    "from sklearn.metrics import completeness_score\n",
    "print(completeness_score(y, y_cluster_kmeans))\n",
    "print(completeness_score(y, y_cluster_gmm))\n",
    "print(completeness_score(y, y_cluster_agg))"
   ]
  },
  {
   "cell_type": "markdown",
   "metadata": {},
   "source": [
    "Veamos el número de clusters usando el método elbow. En este caso, podemos llamar al atributo *inertia_* de kmeans después de fittearlo. Dicho atributo nos devuelve la suma del cuadrado de las distancias a los centroides, que es lo que optimiza kmeans. Para más info, podéis ver la documentación de kmeans en scikit http://scikit-learn.org/stable/modules/generated/sklearn.cluster.KMeans.html"
   ]
  },
  {
   "cell_type": "code",
   "execution_count": 15,
   "metadata": {},
   "outputs": [
    {
     "data": {
      "image/png": "[encoded data removed]",
      "text/plain": [
       "<Figure size 432x288 with 1 Axes>"
      ]
     },
     "metadata": {},
     "output_type": "display_data"
    }
   ],
   "source": [
    "kmeans_scores = []\n",
    "for k in np.arange(1,20):\n",
    "    km = KMeans(n_clusters=k, random_state=0, n_init=100)\n",
    "    km.fit(X_scaled)\n",
    "    kmeans_scores.append(km.inertia_)\n",
    "\n",
    "plt.plot(np.arange(1,20), kmeans_scores)\n",
    "plt.xticks(np.arange(1,20))\n",
    "pass"
   ]
  },
  {
   "cell_type": "markdown",
   "metadata": {},
   "source": [
    "### PCA for visualization\n",
    "\n",
    "Vamos a ver cómo usar la pca, en este caso para facilitarnos la visualización de las clases"
   ]
  },
  {
   "cell_type": "code",
   "execution_count": 16,
   "metadata": {},
   "outputs": [],
   "source": [
    "from sklearn.decomposition import PCA\n",
    "\n",
    "pca = PCA(n_components=2)\n",
    "\n",
    "X_pca = pca.fit_transform(X_scaled)\n",
    "\n",
    "pca_df = pd.DataFrame(data = X_pca\n",
    "             , columns = ['pc1', 'pc2'])"
   ]
  },
  {
   "cell_type": "code",
   "execution_count": 17,
   "metadata": {},
   "outputs": [
    {
     "data": {
      "text/plain": [
       "<matplotlib.legend.Legend at 0x7fc0ddb4b590>"
      ]
     },
     "execution_count": 17,
     "metadata": {},
     "output_type": "execute_result"
    },
    {
     "data": {
      "image/png": "[encoded data removed]",
      "text/plain": [
       "<Figure size 432x288 with 1 Axes>"
      ]
     },
     "metadata": {},
     "output_type": "display_data"
    }
   ],
   "source": [
    "plt.scatter(pca_df.iloc[y==0,0].values,pca_df.iloc[y==0,1].values)\n",
    "plt.scatter(pca_df.iloc[y==1,0].values,pca_df.iloc[y==1,1].values)\n",
    "plt.scatter(pca_df.iloc[y==2,0].values,pca_df.iloc[y==2,1].values)\n",
    "plt.legend(data.target_names)"
   ]
  },
  {
   "cell_type": "markdown",
   "metadata": {},
   "source": [
    "Una vez fitteada la pca, podemos ver el ratio de la variación explicada por cada componente accediendo al atributo *explained_variance_ratio_* del objeto de la pca. Para más info, podéis acceder a la documentación de la clase PCA en scikit http://scikit-learn.org/stable/modules/generated/sklearn.decomposition.PCA.html"
   ]
  },
  {
   "cell_type": "code",
   "execution_count": 26,
   "metadata": {},
   "outputs": [
    {
     "name": "stdout",
     "output_type": "stream",
     "text": [
      "('la variacion de cada compenentes es = ', array([0.72770452, 0.23030523]))\n",
      "('la variacion total explicada por las componentes de la pca es = ', 0.9580097536148198)\n"
     ]
    }
   ],
   "source": [
    "print( \"la variacion de cada compenentes es = \" , pca.explained_variance_ratio_)\n",
    "print( \"la variacion total explicada por las componentes de la pca es = \" , np.sum(pca.explained_variance_ratio_))"
   ]
  },
  {
   "cell_type": "code",
   "execution_count": 22,
   "metadata": {},
   "outputs": [
    {
     "data": {
      "image/png": "[encoded data removed]",
      "text/plain": [
       "<Figure size 432x288 with 1 Axes>"
      ]
     },
     "metadata": {},
     "output_type": "display_data"
    }
   ],
   "source": [
    "plt.bar([1,2], pca.explained_variance_ratio_)\n",
    "plt.xticks([1,2])\n",
    "pass"
   ]
  },
  {
   "cell_type": "markdown",
   "metadata": {},
   "source": [
    "También podríamos haberle pedido que nos hiciera la descomposición en tres componentes"
   ]
  },
  {
   "cell_type": "code",
   "execution_count": 27,
   "metadata": {},
   "outputs": [],
   "source": [
    "from sklearn.decomposition import PCA\n",
    "\n",
    "pca = PCA(n_components=3)\n",
    "\n",
    "X_pca = pca.fit_transform(X_scaled)\n",
    "\n",
    "pca_df = pd.DataFrame(data = X_pca\n",
    "             , columns = ['pc1', 'pc2','pc3'])"
   ]
  },
  {
   "cell_type": "code",
   "execution_count": 30,
   "metadata": {},
   "outputs": [
    {
     "name": "stdout",
     "output_type": "stream",
     "text": [
      "('la variacion total explicada en este caso es = ', 0.9948480731910937)\n"
     ]
    }
   ],
   "source": [
    "print( \"la variacion total explicada en este caso es = \" , np.sum(pca.explained_variance_ratio_))"
   ]
  },
  {
   "cell_type": "code",
   "execution_count": 31,
   "metadata": {},
   "outputs": [
    {
     "data": {
      "text/plain": [
       "<matplotlib.legend.Legend at 0x7fc0dd7c43d0>"
      ]
     },
     "execution_count": 31,
     "metadata": {},
     "output_type": "execute_result"
    },
    {
     "data": {
      "image/png": "[encoded data removed]",
      "text/plain": [
       "<Figure size 432x288 with 1 Axes>"
      ]
     },
     "metadata": {},
     "output_type": "display_data"
    }
   ],
   "source": [
    "from mpl_toolkits.mplot3d import Axes3D\n",
    "fig = plt.figure()\n",
    "ax = fig.add_subplot(111, projection='3d')\n",
    "ax.scatter(pca_df.iloc[y==0,0].values,pca_df.iloc[y==0,1].values, pca_df.iloc[y==0,2].values)\n",
    "ax.scatter(pca_df.iloc[y==1,0].values,pca_df.iloc[y==1,1].values, pca_df.iloc[y==0,2].values)\n",
    "ax.scatter(pca_df.iloc[y==2,0].values,pca_df.iloc[y==2,1].values,pca_df.iloc[y==0,2].values)\n",
    "ax.legend(data.target_names)"
   ]
  },
  {
   "cell_type": "markdown",
   "metadata": {},
   "source": [
    "Por otro lado, cuando usamos la pca, también podemos pasarle la variación de los datos que queremos que explique. Se lo pasamos como un float entre 0 y 1 al argumento n_components. De esta manera, la pca coge las componentes que calculan la variación de los datos que queremos explicar. Podemos acceder al atributo *n_components__* (con una sola barra baja al final) para saber las componentes seleccionadas"
   ]
  },
  {
   "cell_type": "code",
   "execution_count": 36,
   "metadata": {},
   "outputs": [
    {
     "name": "stdout",
     "output_type": "stream",
     "text": [
      "('El numero de componentes seleccionadas es = ', 1)\n",
      "('la variacion total explicada en este caso es = ', 0.7277045209380133)\n"
     ]
    }
   ],
   "source": [
    "# Por ejemplo pedimos al menos el 70%\n",
    "pca = PCA(n_components=0.70)\n",
    "pca.fit(X_scaled)\n",
    "print( \"El numero de componentes seleccionadas es = \" , pca.n_components_)\n",
    "print( \"la variacion total explicada en este caso es = \" , np.sum(pca.explained_variance_ratio_))"
   ]
  },
  {
   "cell_type": "markdown",
   "metadata": {},
   "source": [
    "### PCA para reducir el tiempo computacional (Opcional)"
   ]
  },
  {
   "cell_type": "markdown",
   "metadata": {},
   "source": [
    "Podemos usar pca para reducir el número de dimensiones y así reducir la carga computacional"
   ]
  },
  {
   "cell_type": "code",
   "execution_count": 59,
   "metadata": {},
   "outputs": [],
   "source": [
    "from sklearn.datasets import fetch_mldata\n",
    "\n",
    "mnist = fetch_mldata('MNIST original')"
   ]
  },
  {
   "cell_type": "code",
   "execution_count": 69,
   "metadata": {},
   "outputs": [],
   "source": [
    "from sklearn.model_selection import train_test_split\n",
    "\n",
    "X_train, X_test, y_train, y_test = train_test_split( mnist.data, mnist.target, test_size=0.2, random_state=0)"
   ]
  },
  {
   "cell_type": "code",
   "execution_count": 70,
   "metadata": {},
   "outputs": [],
   "source": [
    "from sklearn.preprocessing import StandardScaler\n",
    "ss = StandardScaler()\n",
    "\n",
    "X_train = ss.fit_transform(X_train)\n",
    "X_test = ss.transform(X_test)"
   ]
  },
  {
   "cell_type": "code",
   "execution_count": 71,
   "metadata": {},
   "outputs": [],
   "source": [
    "from sklearn.decomposition import PCA\n",
    "\n",
    "pca = PCA(.95)"
   ]
  },
  {
   "cell_type": "code",
   "execution_count": 72,
   "metadata": {},
   "outputs": [
    {
     "data": {
      "text/plain": [
       "PCA(copy=True, iterated_power='auto', n_components=0.95, random_state=None,\n",
       "  svd_solver='auto', tol=0.0, whiten=False)"
      ]
     },
     "execution_count": 72,
     "metadata": {},
     "output_type": "execute_result"
    }
   ],
   "source": [
    "pca.fit(X_train)"
   ]
  },
  {
   "cell_type": "code",
   "execution_count": 73,
   "metadata": {},
   "outputs": [],
   "source": [
    "X_train_pca = pca.transform(X_train)\n",
    "X_test_pca = pca.transform(X_test)"
   ]
  },
  {
   "cell_type": "code",
   "execution_count": 78,
   "metadata": {},
   "outputs": [],
   "source": [
    "from sklearn.linear_model import LogisticRegression, SGDClassifier\n",
    "#clf = LogisticRegression(solver = 'lbfgs')\n",
    "clf = SGDClassifier()"
   ]
  },
  {
   "cell_type": "code",
   "execution_count": 79,
   "metadata": {},
   "outputs": [
    {
     "name": "stderr",
     "output_type": "stream",
     "text": [
      "/home/javitxu/anaconda2/lib/python2.7/site-packages/sklearn/linear_model/stochastic_gradient.py:128: FutureWarning: max_iter and tol parameters have been added in <class 'sklearn.linear_model.stochastic_gradient.SGDClassifier'> in 0.19. If both are left unset, they default to max_iter=5 and tol=None. If tol is not None, max_iter defaults to max_iter=1000. From 0.21, default max_iter will be 1000, and default tol will be 1e-3.\n",
      "  \"and default tol will be 1e-3.\" % type(self), FutureWarning)\n"
     ]
    },
    {
     "name": "stdout",
     "output_type": "stream",
     "text": [
      "('el tiempo que ha tardado usando toda la data:', 5.105981826782227)\n",
      "0.9115\n"
     ]
    }
   ],
   "source": [
    "import time\n",
    "\n",
    "start_time = time.time()\n",
    "clf.fit(X_train, y_train)\n",
    "end_time = time.time()\n",
    "print(\"el tiempo que ha tardado usando toda la data:\", end_time - start_time)\n",
    "print(clf.score(X_test, y_test))"
   ]
  },
  {
   "cell_type": "code",
   "execution_count": 80,
   "metadata": {},
   "outputs": [
    {
     "name": "stdout",
     "output_type": "stream",
     "text": [
      "('el tiempo que ha tardado usando el 95%:', 3.428057909011841)\n",
      "0.9120714285714285\n"
     ]
    }
   ],
   "source": [
    "start_time = time.time()\n",
    "clf.fit(X_train_pca, y_train)\n",
    "end_time = time.time()\n",
    "print(\"el tiempo que ha tardado usando el 95%:\", end_time - start_time)\n",
    "print(clf.score(X_test_pca, y_test))"
   ]
  }
 ],
 "metadata": {
  "kernelspec": {
   "display_name": "Python 2",
   "language": "python",
   "name": "python2"
  },
  "language_info": {
   "codemirror_mode": {
    "name": "ipython",
    "version": 2
   },
   "file_extension": ".py",
   "mimetype": "text/x-python",
   "name": "python",
   "nbconvert_exporter": "python",
   "pygments_lexer": "ipython2",
   "version": "2.7.14"
  }
 },
 "nbformat": 4,
 "nbformat_minor": 2
}
